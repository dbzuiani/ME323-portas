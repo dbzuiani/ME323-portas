{
 "cells": [
  {
   "cell_type": "code",
   "execution_count": 1,
   "metadata": {},
   "outputs": [
    {
     "name": "stdout",
     "output_type": "stream",
     "text": [
      "Sem trocar de porta = 1653\n",
      "Trocando de porta = 3309\n"
     ]
    },
    {
     "data": {
      "text/plain": [
       "<Figure size 640x480 with 1 Axes>"
      ]
     },
     "metadata": {},
     "output_type": "display_data"
    }
   ],
   "source": [
    "#Davi Botelho Zuiani - RA: 195992\n",
    "#Matheus Sunao Pedrassani - RA: 203590\n",
    "\n",
    "from random import randint\n",
    "import matplotlib.pyplot as plt\n",
    "\n",
    "i = 0\n",
    "cont_stroca = 0\n",
    "cont_ctroca = 0\n",
    "vetor_stroca = []\n",
    "vetor_ctroca = []\n",
    "eixo_x = []\n",
    "\n",
    "vetor_stroca.append(0.5)\n",
    "vetor_ctroca.append(0.5)\n",
    "eixo_x.append(0)\n",
    "\n",
    "while (i < 5000):\n",
    "\tporta_certa = randint(0,2)\n",
    "\tporta_escolha = randint(0,2)\n",
    "\n",
    "\tif (porta_escolha == porta_certa):\n",
    "\t\tcont_stroca = cont_stroca + 1\n",
    "\n",
    "\ti += 1\n",
    "\tvetor_stroca.append(cont_stroca/i)\n",
    "\teixo_x.append(i)\n",
    "\n",
    "\n",
    "i = 0\t\n",
    "\n",
    "while (i < 5000):\n",
    "\tporta_certa = randint(0,2)\n",
    "\tporta_escolha = randint(0,2)\n",
    "\n",
    "\tif (porta_escolha != porta_certa):\n",
    "\t\tcont_ctroca = cont_ctroca + 1\n",
    "\n",
    "\ti += 1\n",
    "\tvetor_ctroca.append(cont_ctroca/i)\n",
    "\n",
    "print(\"Sem trocar de porta = \" + str(cont_stroca))\n",
    "print(\"Trocando de porta = \" + str(cont_ctroca))\n",
    "\n",
    "fig = plt.figure()\n",
    "\n",
    "ax = fig.add_subplot(111)\n",
    "\n",
    "ax.set_title('Proporção Acumulada - Porta dos desesperados')\n",
    "plt.xlabel('Número de tentativas')\n",
    "plt.ylabel('Porcentagem de sucesso')\n",
    "\n",
    "ax.plot(eixo_x, vetor_stroca, color='r', label='Sem troca de porta')\n",
    "ax.plot(eixo_x, vetor_ctroca, color='b', label='Com troca de porta')\n",
    "\n",
    "ax.set_xlim(left=0)\n",
    "\n",
    "leg = ax.legend()\n",
    "\n",
    "plt.show()"
   ]
  },
  {
   "cell_type": "code",
   "execution_count": null,
   "metadata": {},
   "outputs": [],
   "source": []
  }
 ],
 "metadata": {
  "kernelspec": {
   "display_name": "Python 3",
   "language": "python",
   "name": "python3"
  },
  "language_info": {
   "codemirror_mode": {
    "name": "ipython",
    "version": 3
   },
   "file_extension": ".py",
   "mimetype": "text/x-python",
   "name": "python",
   "nbconvert_exporter": "python",
   "pygments_lexer": "ipython3",
   "version": "3.6.7"
  }
 },
 "nbformat": 4,
 "nbformat_minor": 2
}
